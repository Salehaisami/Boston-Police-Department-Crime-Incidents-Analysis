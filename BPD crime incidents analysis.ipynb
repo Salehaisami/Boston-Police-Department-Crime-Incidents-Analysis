{
 "cells": [
  {
   "cell_type": "markdown",
   "metadata": {},
   "source": [
    "# Boston Police Department Crime Incidents' Analysis"
   ]
  },
  {
   "cell_type": "markdown",
   "metadata": {},
   "source": [
    "Data source:\n",
    "https://data.boston.gov/dataset/crime-incident-reports-august-2015-to-date-source-new-system"
   ]
  },
  {
   "cell_type": "markdown",
   "metadata": {},
   "source": [
    "## Introduction"
   ]
  },
  {
   "cell_type": "markdown",
   "metadata": {},
   "source": [
    "As the title leaks, we will be dealing with data from Boston's police department. The data keeps track of several information related to crime incidents during the period from year 2015 to 2019 (current date). The description given on the website is: \"Crime incident reports are provided by Boston Police Department (BPD) to document the initial details surrounding an incident to which BPD officers respond.\" \n",
    "\n",
    "Our target is to answer the following questions:\n",
    "\n",
    "1) Which districts highlights the highest number of incidents? Streets?\n",
    "\n",
    "2) What are the most comitted crimes? According to each district?\n",
    "\n",
    "3) How did the most 3 comitted crimes change during the years?\n",
    "\n",
    "4) Which day hosted the highest number of crimes for each of the four years? Month? What hour of the day?"
   ]
  },
  {
   "cell_type": "markdown",
   "metadata": {},
   "source": [
    "## Importing the data and getting familiar"
   ]
  },
  {
   "cell_type": "markdown",
   "metadata": {},
   "source": [
    "Let's first import our data, which is in .CSV format (comma separated values: data are in rows that have their individual values separated with commas), as a Pandas DataFrame object, which is also a tabular form(rows and columns intersecting and defining unique cells) but easier to deal with than the .csv for data analysis purposes. We will also print a few lines from the begining and ending of our data to get more familiar with it."
   ]
  },
  {
   "cell_type": "code",
   "execution_count": 54,
   "metadata": {},
   "outputs": [
    {
     "data": {
      "text/html": [
       "<div>\n",
       "<style scoped>\n",
       "    .dataframe tbody tr th:only-of-type {\n",
       "        vertical-align: middle;\n",
       "    }\n",
       "\n",
       "    .dataframe tbody tr th {\n",
       "        vertical-align: top;\n",
       "    }\n",
       "\n",
       "    .dataframe thead th {\n",
       "        text-align: right;\n",
       "    }\n",
       "</style>\n",
       "<table border=\"1\" class=\"dataframe\">\n",
       "  <thead>\n",
       "    <tr style=\"text-align: right;\">\n",
       "      <th></th>\n",
       "      <th>INCIDENT_NUMBER</th>\n",
       "      <th>OFFENSE_CODE</th>\n",
       "      <th>OFFENSE_CODE_GROUP</th>\n",
       "      <th>OFFENSE_DESCRIPTION</th>\n",
       "      <th>DISTRICT</th>\n",
       "      <th>REPORTING_AREA</th>\n",
       "      <th>SHOOTING</th>\n",
       "      <th>OCCURRED_ON_DATE</th>\n",
       "      <th>YEAR</th>\n",
       "      <th>MONTH</th>\n",
       "      <th>DAY_OF_WEEK</th>\n",
       "      <th>HOUR</th>\n",
       "      <th>UCR_PART</th>\n",
       "      <th>STREET</th>\n",
       "      <th>Lat</th>\n",
       "      <th>Long</th>\n",
       "      <th>Location</th>\n",
       "    </tr>\n",
       "  </thead>\n",
       "  <tbody>\n",
       "    <tr>\n",
       "      <th>0</th>\n",
       "      <td>I192057955</td>\n",
       "      <td>3115</td>\n",
       "      <td>Investigate Person</td>\n",
       "      <td>INVESTIGATE PERSON</td>\n",
       "      <td>D4</td>\n",
       "      <td>627</td>\n",
       "      <td>NaN</td>\n",
       "      <td>2019-07-26 19:56:00</td>\n",
       "      <td>2019</td>\n",
       "      <td>7</td>\n",
       "      <td>Friday</td>\n",
       "      <td>19</td>\n",
       "      <td>Part Three</td>\n",
       "      <td>KILMARNOCK ST</td>\n",
       "      <td>42.343535</td>\n",
       "      <td>-71.099801</td>\n",
       "      <td>(42.34353469, -71.09980109)</td>\n",
       "    </tr>\n",
       "    <tr>\n",
       "      <th>1</th>\n",
       "      <td>I192057953</td>\n",
       "      <td>619</td>\n",
       "      <td>Larceny</td>\n",
       "      <td>LARCENY ALL OTHERS</td>\n",
       "      <td>B3</td>\n",
       "      <td>434</td>\n",
       "      <td>NaN</td>\n",
       "      <td>2019-07-26 21:00:00</td>\n",
       "      <td>2019</td>\n",
       "      <td>7</td>\n",
       "      <td>Friday</td>\n",
       "      <td>21</td>\n",
       "      <td>Part One</td>\n",
       "      <td>EVANS ST</td>\n",
       "      <td>42.282293</td>\n",
       "      <td>-71.080889</td>\n",
       "      <td>(42.28229312, -71.08088944)</td>\n",
       "    </tr>\n",
       "    <tr>\n",
       "      <th>2</th>\n",
       "      <td>I192057944</td>\n",
       "      <td>3006</td>\n",
       "      <td>Medical Assistance</td>\n",
       "      <td>SICK/INJURED/MEDICAL - PERSON</td>\n",
       "      <td>E13</td>\n",
       "      <td>574</td>\n",
       "      <td>NaN</td>\n",
       "      <td>2019-07-26 20:48:00</td>\n",
       "      <td>2019</td>\n",
       "      <td>7</td>\n",
       "      <td>Friday</td>\n",
       "      <td>20</td>\n",
       "      <td>Part Three</td>\n",
       "      <td>WASHINGTON ST</td>\n",
       "      <td>42.309719</td>\n",
       "      <td>-71.104294</td>\n",
       "      <td>(42.30971857, -71.10429432)</td>\n",
       "    </tr>\n",
       "    <tr>\n",
       "      <th>3</th>\n",
       "      <td>I192057942</td>\n",
       "      <td>619</td>\n",
       "      <td>Larceny</td>\n",
       "      <td>LARCENY ALL OTHERS</td>\n",
       "      <td>D14</td>\n",
       "      <td>800</td>\n",
       "      <td>NaN</td>\n",
       "      <td>2019-07-26 19:00:00</td>\n",
       "      <td>2019</td>\n",
       "      <td>7</td>\n",
       "      <td>Friday</td>\n",
       "      <td>19</td>\n",
       "      <td>Part One</td>\n",
       "      <td>ASHFORD ST</td>\n",
       "      <td>42.354319</td>\n",
       "      <td>-71.129017</td>\n",
       "      <td>(42.35431862, -71.12901674)</td>\n",
       "    </tr>\n",
       "    <tr>\n",
       "      <th>4</th>\n",
       "      <td>I192057939</td>\n",
       "      <td>1102</td>\n",
       "      <td>Fraud</td>\n",
       "      <td>FRAUD - FALSE PRETENSE / SCHEME</td>\n",
       "      <td>D4</td>\n",
       "      <td>166</td>\n",
       "      <td>NaN</td>\n",
       "      <td>2019-07-26 15:00:00</td>\n",
       "      <td>2019</td>\n",
       "      <td>7</td>\n",
       "      <td>Friday</td>\n",
       "      <td>15</td>\n",
       "      <td>Part Two</td>\n",
       "      <td>SHAWMUT AVE</td>\n",
       "      <td>42.341775</td>\n",
       "      <td>-71.071245</td>\n",
       "      <td>(42.34177501, -71.07124466)</td>\n",
       "    </tr>\n",
       "  </tbody>\n",
       "</table>\n",
       "</div>"
      ],
      "text/plain": [
       "  INCIDENT_NUMBER  OFFENSE_CODE  OFFENSE_CODE_GROUP  \\\n",
       "0      I192057955          3115  Investigate Person   \n",
       "1      I192057953           619             Larceny   \n",
       "2      I192057944          3006  Medical Assistance   \n",
       "3      I192057942           619             Larceny   \n",
       "4      I192057939          1102               Fraud   \n",
       "\n",
       "               OFFENSE_DESCRIPTION DISTRICT REPORTING_AREA SHOOTING  \\\n",
       "0               INVESTIGATE PERSON       D4            627      NaN   \n",
       "1               LARCENY ALL OTHERS       B3            434      NaN   \n",
       "2    SICK/INJURED/MEDICAL - PERSON      E13            574      NaN   \n",
       "3               LARCENY ALL OTHERS      D14            800      NaN   \n",
       "4  FRAUD - FALSE PRETENSE / SCHEME       D4            166      NaN   \n",
       "\n",
       "      OCCURRED_ON_DATE  YEAR  MONTH DAY_OF_WEEK  HOUR    UCR_PART  \\\n",
       "0  2019-07-26 19:56:00  2019      7      Friday    19  Part Three   \n",
       "1  2019-07-26 21:00:00  2019      7      Friday    21    Part One   \n",
       "2  2019-07-26 20:48:00  2019      7      Friday    20  Part Three   \n",
       "3  2019-07-26 19:00:00  2019      7      Friday    19    Part One   \n",
       "4  2019-07-26 15:00:00  2019      7      Friday    15    Part Two   \n",
       "\n",
       "          STREET        Lat       Long                     Location  \n",
       "0  KILMARNOCK ST  42.343535 -71.099801  (42.34353469, -71.09980109)  \n",
       "1       EVANS ST  42.282293 -71.080889  (42.28229312, -71.08088944)  \n",
       "2  WASHINGTON ST  42.309719 -71.104294  (42.30971857, -71.10429432)  \n",
       "3     ASHFORD ST  42.354319 -71.129017  (42.35431862, -71.12901674)  \n",
       "4    SHAWMUT AVE  42.341775 -71.071245  (42.34177501, -71.07124466)  "
      ]
     },
     "execution_count": 54,
     "metadata": {},
     "output_type": "execute_result"
    }
   ],
   "source": [
    "import pandas as pd\n",
    "\n",
    "# reading in the .csv file which is located in the same file as our ipython notebook\n",
    "data = pd.read_csv('data.csv')\n",
    "\n",
    "# printing out the first five rows\n",
    "data.head()\n",
    "\n",
    "\n",
    "\n",
    "# data[data.SHOOTING == 'Y'].head()"
   ]
  },
  {
   "cell_type": "code",
   "execution_count": 55,
   "metadata": {},
   "outputs": [
    {
     "data": {
      "text/html": [
       "<div>\n",
       "<style scoped>\n",
       "    .dataframe tbody tr th:only-of-type {\n",
       "        vertical-align: middle;\n",
       "    }\n",
       "\n",
       "    .dataframe tbody tr th {\n",
       "        vertical-align: top;\n",
       "    }\n",
       "\n",
       "    .dataframe thead th {\n",
       "        text-align: right;\n",
       "    }\n",
       "</style>\n",
       "<table border=\"1\" class=\"dataframe\">\n",
       "  <thead>\n",
       "    <tr style=\"text-align: right;\">\n",
       "      <th></th>\n",
       "      <th>INCIDENT_NUMBER</th>\n",
       "      <th>OFFENSE_CODE</th>\n",
       "      <th>OFFENSE_CODE_GROUP</th>\n",
       "      <th>OFFENSE_DESCRIPTION</th>\n",
       "      <th>DISTRICT</th>\n",
       "      <th>REPORTING_AREA</th>\n",
       "      <th>SHOOTING</th>\n",
       "      <th>OCCURRED_ON_DATE</th>\n",
       "      <th>YEAR</th>\n",
       "      <th>MONTH</th>\n",
       "      <th>DAY_OF_WEEK</th>\n",
       "      <th>HOUR</th>\n",
       "      <th>UCR_PART</th>\n",
       "      <th>STREET</th>\n",
       "      <th>Lat</th>\n",
       "      <th>Long</th>\n",
       "      <th>Location</th>\n",
       "    </tr>\n",
       "  </thead>\n",
       "  <tbody>\n",
       "    <tr>\n",
       "      <th>407042</th>\n",
       "      <td>I020691165-00</td>\n",
       "      <td>3125</td>\n",
       "      <td>Warrant Arrests</td>\n",
       "      <td>WARRANT ARREST</td>\n",
       "      <td>A1</td>\n",
       "      <td>77</td>\n",
       "      <td>NaN</td>\n",
       "      <td>2019-05-23 08:00:00</td>\n",
       "      <td>2019</td>\n",
       "      <td>5</td>\n",
       "      <td>Thursday</td>\n",
       "      <td>8</td>\n",
       "      <td>Part Three</td>\n",
       "      <td>NEW SUDBURY ST</td>\n",
       "      <td>42.361839</td>\n",
       "      <td>-71.059765</td>\n",
       "      <td>(42.36183857, -71.05976489)</td>\n",
       "    </tr>\n",
       "    <tr>\n",
       "      <th>407043</th>\n",
       "      <td>I020674147-00</td>\n",
       "      <td>3125</td>\n",
       "      <td>Warrant Arrests</td>\n",
       "      <td>WARRANT ARREST</td>\n",
       "      <td>A1</td>\n",
       "      <td>77</td>\n",
       "      <td>NaN</td>\n",
       "      <td>2019-05-23 08:00:00</td>\n",
       "      <td>2019</td>\n",
       "      <td>5</td>\n",
       "      <td>Thursday</td>\n",
       "      <td>8</td>\n",
       "      <td>Part Three</td>\n",
       "      <td>NEW SUDBURY ST</td>\n",
       "      <td>42.361839</td>\n",
       "      <td>-71.059765</td>\n",
       "      <td>(42.36183857, -71.05976489)</td>\n",
       "    </tr>\n",
       "    <tr>\n",
       "      <th>407044</th>\n",
       "      <td>I020669075-00</td>\n",
       "      <td>3125</td>\n",
       "      <td>Warrant Arrests</td>\n",
       "      <td>WARRANT ARREST</td>\n",
       "      <td>A1</td>\n",
       "      <td>77</td>\n",
       "      <td>NaN</td>\n",
       "      <td>2019-05-23 08:00:00</td>\n",
       "      <td>2019</td>\n",
       "      <td>5</td>\n",
       "      <td>Thursday</td>\n",
       "      <td>8</td>\n",
       "      <td>Part Three</td>\n",
       "      <td>NEW SUDBURY ST</td>\n",
       "      <td>42.361839</td>\n",
       "      <td>-71.059765</td>\n",
       "      <td>(42.36183857, -71.05976489)</td>\n",
       "    </tr>\n",
       "    <tr>\n",
       "      <th>407045</th>\n",
       "      <td>I020662996-00</td>\n",
       "      <td>3125</td>\n",
       "      <td>Warrant Arrests</td>\n",
       "      <td>WARRANT ARREST</td>\n",
       "      <td>A1</td>\n",
       "      <td>77</td>\n",
       "      <td>NaN</td>\n",
       "      <td>2019-05-23 08:56:00</td>\n",
       "      <td>2019</td>\n",
       "      <td>5</td>\n",
       "      <td>Thursday</td>\n",
       "      <td>8</td>\n",
       "      <td>Part Three</td>\n",
       "      <td>NEW SUDBURY ST</td>\n",
       "      <td>42.361839</td>\n",
       "      <td>-71.059765</td>\n",
       "      <td>(42.36183857, -71.05976489)</td>\n",
       "    </tr>\n",
       "    <tr>\n",
       "      <th>407046</th>\n",
       "      <td>I010370257-00</td>\n",
       "      <td>3125</td>\n",
       "      <td>Warrant Arrests</td>\n",
       "      <td>WARRANT ARREST</td>\n",
       "      <td>E13</td>\n",
       "      <td>569</td>\n",
       "      <td>NaN</td>\n",
       "      <td>2016-05-31 19:35:00</td>\n",
       "      <td>2016</td>\n",
       "      <td>5</td>\n",
       "      <td>Tuesday</td>\n",
       "      <td>19</td>\n",
       "      <td>Part Three</td>\n",
       "      <td>NEW WASHINGTON ST</td>\n",
       "      <td>42.302333</td>\n",
       "      <td>-71.111565</td>\n",
       "      <td>(42.30233307, -71.11156487)</td>\n",
       "    </tr>\n",
       "  </tbody>\n",
       "</table>\n",
       "</div>"
      ],
      "text/plain": [
       "       INCIDENT_NUMBER  OFFENSE_CODE OFFENSE_CODE_GROUP OFFENSE_DESCRIPTION  \\\n",
       "407042   I020691165-00          3125    Warrant Arrests      WARRANT ARREST   \n",
       "407043   I020674147-00          3125    Warrant Arrests      WARRANT ARREST   \n",
       "407044   I020669075-00          3125    Warrant Arrests      WARRANT ARREST   \n",
       "407045   I020662996-00          3125    Warrant Arrests      WARRANT ARREST   \n",
       "407046   I010370257-00          3125    Warrant Arrests      WARRANT ARREST   \n",
       "\n",
       "       DISTRICT REPORTING_AREA SHOOTING     OCCURRED_ON_DATE  YEAR  MONTH  \\\n",
       "407042       A1             77      NaN  2019-05-23 08:00:00  2019      5   \n",
       "407043       A1             77      NaN  2019-05-23 08:00:00  2019      5   \n",
       "407044       A1             77      NaN  2019-05-23 08:00:00  2019      5   \n",
       "407045       A1             77      NaN  2019-05-23 08:56:00  2019      5   \n",
       "407046      E13            569      NaN  2016-05-31 19:35:00  2016      5   \n",
       "\n",
       "       DAY_OF_WEEK  HOUR    UCR_PART             STREET        Lat       Long  \\\n",
       "407042    Thursday     8  Part Three     NEW SUDBURY ST  42.361839 -71.059765   \n",
       "407043    Thursday     8  Part Three     NEW SUDBURY ST  42.361839 -71.059765   \n",
       "407044    Thursday     8  Part Three     NEW SUDBURY ST  42.361839 -71.059765   \n",
       "407045    Thursday     8  Part Three     NEW SUDBURY ST  42.361839 -71.059765   \n",
       "407046     Tuesday    19  Part Three  NEW WASHINGTON ST  42.302333 -71.111565   \n",
       "\n",
       "                           Location  \n",
       "407042  (42.36183857, -71.05976489)  \n",
       "407043  (42.36183857, -71.05976489)  \n",
       "407044  (42.36183857, -71.05976489)  \n",
       "407045  (42.36183857, -71.05976489)  \n",
       "407046  (42.30233307, -71.11156487)  "
      ]
     },
     "execution_count": 55,
     "metadata": {},
     "output_type": "execute_result"
    }
   ],
   "source": [
    "# printing out the last five rows\n",
    "data.tail()"
   ]
  },
  {
   "cell_type": "code",
   "execution_count": 56,
   "metadata": {},
   "outputs": [
    {
     "name": "stdout",
     "output_type": "stream",
     "text": [
      "<class 'pandas.core.frame.DataFrame'>\n",
      "RangeIndex: 407047 entries, 0 to 407046\n",
      "Data columns (total 17 columns):\n",
      "INCIDENT_NUMBER        407047 non-null object\n",
      "OFFENSE_CODE           407047 non-null int64\n",
      "OFFENSE_CODE_GROUP     407047 non-null object\n",
      "OFFENSE_DESCRIPTION    407047 non-null object\n",
      "DISTRICT               404938 non-null object\n",
      "REPORTING_AREA         407047 non-null object\n",
      "SHOOTING               1660 non-null object\n",
      "OCCURRED_ON_DATE       407047 non-null object\n",
      "YEAR                   407047 non-null int64\n",
      "MONTH                  407047 non-null int64\n",
      "DAY_OF_WEEK            407047 non-null object\n",
      "HOUR                   407047 non-null int64\n",
      "UCR_PART               406939 non-null object\n",
      "STREET                 394996 non-null object\n",
      "Lat                    381354 non-null float64\n",
      "Long                   381354 non-null float64\n",
      "Location               407047 non-null object\n",
      "dtypes: float64(2), int64(4), object(11)\n",
      "memory usage: 52.8+ MB\n"
     ]
    }
   ],
   "source": [
    "data.info()"
   ]
  },
  {
   "cell_type": "markdown",
   "metadata": {},
   "source": [
    "## Cleaning the data"
   ]
  },
  {
   "cell_type": "markdown",
   "metadata": {},
   "source": [
    "Before we start doing any analysis or asking questions, we should make sure our data is the way we like. This will be done by removing extra columns and rows that may be unneeded, affect our analysis later on, or slow us down by taking extra memory for no much extra help."
   ]
  },
  {
   "cell_type": "markdown",
   "metadata": {},
   "source": [
    "### Removing redundant columns"
   ]
  },
  {
   "cell_type": "markdown",
   "metadata": {},
   "source": [
    "With a first glimpse, we can find out that some fields(columns) are redundant and add no value to the data. 'Lat' and 'Long' (corresponding to latitude and longitude respectively) are an example of such columns, since we already have the 'Location' column which is just the 'Lat' and 'Long' put together, and has no null objects (rows with no information) in contrast. We also find that 'OFFENSE_CODE_GROUP' and 'OFFENSE_DESCRIPTION' refer almost to the same information, so let's keep the first('OFFENSE_CODE_GROUP') which seems to have shorter text and goes to the point. Moreover, if we need more information such as the one in the 'OFFENSE_DESCRIPTION', we just need to look it up using the 'offense_code' and we'll find the exact information in the offense codes' separate file. 'Reporting Area', which shows a code corresponding to where the report was made, and 'Incident Number', which contains a unique internal code for each incident within the Boston PD, are also unneeded columns since they are irrelevant to our analysis. Lastly, the 'SHOOTING' column seems to have a very high number of unknown values, so removing the whole column would do more good than harm. Let's first get rid of these columns and then continue dealing with the rest."
   ]
  },
  {
   "cell_type": "code",
   "execution_count": 57,
   "metadata": {},
   "outputs": [
    {
     "data": {
      "text/html": [
       "<div>\n",
       "<style scoped>\n",
       "    .dataframe tbody tr th:only-of-type {\n",
       "        vertical-align: middle;\n",
       "    }\n",
       "\n",
       "    .dataframe tbody tr th {\n",
       "        vertical-align: top;\n",
       "    }\n",
       "\n",
       "    .dataframe thead th {\n",
       "        text-align: right;\n",
       "    }\n",
       "</style>\n",
       "<table border=\"1\" class=\"dataframe\">\n",
       "  <thead>\n",
       "    <tr style=\"text-align: right;\">\n",
       "      <th></th>\n",
       "      <th>INCIDENT_NUMBER</th>\n",
       "      <th>OFFENSE_CODE</th>\n",
       "      <th>OFFENSE_CODE_GROUP</th>\n",
       "      <th>DISTRICT</th>\n",
       "      <th>OCCURRED_ON_DATE</th>\n",
       "      <th>YEAR</th>\n",
       "      <th>MONTH</th>\n",
       "      <th>DAY_OF_WEEK</th>\n",
       "      <th>HOUR</th>\n",
       "      <th>STREET</th>\n",
       "      <th>Location</th>\n",
       "    </tr>\n",
       "  </thead>\n",
       "  <tbody>\n",
       "    <tr>\n",
       "      <th>0</th>\n",
       "      <td>I192057955</td>\n",
       "      <td>3115</td>\n",
       "      <td>Investigate Person</td>\n",
       "      <td>D4</td>\n",
       "      <td>2019-07-26 19:56:00</td>\n",
       "      <td>2019</td>\n",
       "      <td>7</td>\n",
       "      <td>Friday</td>\n",
       "      <td>19</td>\n",
       "      <td>KILMARNOCK ST</td>\n",
       "      <td>(42.34353469, -71.09980109)</td>\n",
       "    </tr>\n",
       "    <tr>\n",
       "      <th>1</th>\n",
       "      <td>I192057953</td>\n",
       "      <td>619</td>\n",
       "      <td>Larceny</td>\n",
       "      <td>B3</td>\n",
       "      <td>2019-07-26 21:00:00</td>\n",
       "      <td>2019</td>\n",
       "      <td>7</td>\n",
       "      <td>Friday</td>\n",
       "      <td>21</td>\n",
       "      <td>EVANS ST</td>\n",
       "      <td>(42.28229312, -71.08088944)</td>\n",
       "    </tr>\n",
       "    <tr>\n",
       "      <th>2</th>\n",
       "      <td>I192057944</td>\n",
       "      <td>3006</td>\n",
       "      <td>Medical Assistance</td>\n",
       "      <td>E13</td>\n",
       "      <td>2019-07-26 20:48:00</td>\n",
       "      <td>2019</td>\n",
       "      <td>7</td>\n",
       "      <td>Friday</td>\n",
       "      <td>20</td>\n",
       "      <td>WASHINGTON ST</td>\n",
       "      <td>(42.30971857, -71.10429432)</td>\n",
       "    </tr>\n",
       "    <tr>\n",
       "      <th>3</th>\n",
       "      <td>I192057942</td>\n",
       "      <td>619</td>\n",
       "      <td>Larceny</td>\n",
       "      <td>D14</td>\n",
       "      <td>2019-07-26 19:00:00</td>\n",
       "      <td>2019</td>\n",
       "      <td>7</td>\n",
       "      <td>Friday</td>\n",
       "      <td>19</td>\n",
       "      <td>ASHFORD ST</td>\n",
       "      <td>(42.35431862, -71.12901674)</td>\n",
       "    </tr>\n",
       "    <tr>\n",
       "      <th>4</th>\n",
       "      <td>I192057939</td>\n",
       "      <td>1102</td>\n",
       "      <td>Fraud</td>\n",
       "      <td>D4</td>\n",
       "      <td>2019-07-26 15:00:00</td>\n",
       "      <td>2019</td>\n",
       "      <td>7</td>\n",
       "      <td>Friday</td>\n",
       "      <td>15</td>\n",
       "      <td>SHAWMUT AVE</td>\n",
       "      <td>(42.34177501, -71.07124466)</td>\n",
       "    </tr>\n",
       "  </tbody>\n",
       "</table>\n",
       "</div>"
      ],
      "text/plain": [
       "  INCIDENT_NUMBER  OFFENSE_CODE  OFFENSE_CODE_GROUP DISTRICT  \\\n",
       "0      I192057955          3115  Investigate Person       D4   \n",
       "1      I192057953           619             Larceny       B3   \n",
       "2      I192057944          3006  Medical Assistance      E13   \n",
       "3      I192057942           619             Larceny      D14   \n",
       "4      I192057939          1102               Fraud       D4   \n",
       "\n",
       "      OCCURRED_ON_DATE  YEAR  MONTH DAY_OF_WEEK  HOUR         STREET  \\\n",
       "0  2019-07-26 19:56:00  2019      7      Friday    19  KILMARNOCK ST   \n",
       "1  2019-07-26 21:00:00  2019      7      Friday    21       EVANS ST   \n",
       "2  2019-07-26 20:48:00  2019      7      Friday    20  WASHINGTON ST   \n",
       "3  2019-07-26 19:00:00  2019      7      Friday    19     ASHFORD ST   \n",
       "4  2019-07-26 15:00:00  2019      7      Friday    15    SHAWMUT AVE   \n",
       "\n",
       "                      Location  \n",
       "0  (42.34353469, -71.09980109)  \n",
       "1  (42.28229312, -71.08088944)  \n",
       "2  (42.30971857, -71.10429432)  \n",
       "3  (42.35431862, -71.12901674)  \n",
       "4  (42.34177501, -71.07124466)  "
      ]
     },
     "execution_count": 57,
     "metadata": {},
     "output_type": "execute_result"
    }
   ],
   "source": [
    "# axis parameter should be 1 (columns' axis) to define where the drop takes place; the default value is 0\n",
    "data = data.drop(['Lat','Long','OFFENSE_DESCRIPTION',\n",
    "                  'REPORTING_AREA', 'SHOOTING','UCR_PART'], axis=1)\n",
    "data.head()"
   ]
  },
  {
   "cell_type": "markdown",
   "metadata": {},
   "source": [
    "### Creating needed columns from available ones"
   ]
  },
  {
   "cell_type": "markdown",
   "metadata": {},
   "source": [
    "Since we have the YEAR, MONTH, DAY_OF_WEEK, and HOUR columns, OCCURED_ON_DATE is unneeded. But, before that, let's retrieve the day of the month and put it in a separate columns since its the only information that can only be found in the OCCURED_ON_DATE column."
   ]
  },
  {
   "cell_type": "code",
   "execution_count": 58,
   "metadata": {},
   "outputs": [
    {
     "data": {
      "text/html": [
       "<div>\n",
       "<style scoped>\n",
       "    .dataframe tbody tr th:only-of-type {\n",
       "        vertical-align: middle;\n",
       "    }\n",
       "\n",
       "    .dataframe tbody tr th {\n",
       "        vertical-align: top;\n",
       "    }\n",
       "\n",
       "    .dataframe thead th {\n",
       "        text-align: right;\n",
       "    }\n",
       "</style>\n",
       "<table border=\"1\" class=\"dataframe\">\n",
       "  <thead>\n",
       "    <tr style=\"text-align: right;\">\n",
       "      <th></th>\n",
       "      <th>INCIDENT_NUMBER</th>\n",
       "      <th>OFFENSE_CODE</th>\n",
       "      <th>OFFENSE_CODE_GROUP</th>\n",
       "      <th>DISTRICT</th>\n",
       "      <th>YEAR</th>\n",
       "      <th>MONTH</th>\n",
       "      <th>DAY_OF_WEEK</th>\n",
       "      <th>HOUR</th>\n",
       "      <th>STREET</th>\n",
       "      <th>Location</th>\n",
       "      <th>DAY</th>\n",
       "    </tr>\n",
       "  </thead>\n",
       "  <tbody>\n",
       "    <tr>\n",
       "      <th>407042</th>\n",
       "      <td>I020691165-00</td>\n",
       "      <td>3125</td>\n",
       "      <td>Warrant Arrests</td>\n",
       "      <td>A1</td>\n",
       "      <td>2019</td>\n",
       "      <td>5</td>\n",
       "      <td>Thursday</td>\n",
       "      <td>8</td>\n",
       "      <td>NEW SUDBURY ST</td>\n",
       "      <td>(42.36183857, -71.05976489)</td>\n",
       "      <td>23</td>\n",
       "    </tr>\n",
       "    <tr>\n",
       "      <th>407043</th>\n",
       "      <td>I020674147-00</td>\n",
       "      <td>3125</td>\n",
       "      <td>Warrant Arrests</td>\n",
       "      <td>A1</td>\n",
       "      <td>2019</td>\n",
       "      <td>5</td>\n",
       "      <td>Thursday</td>\n",
       "      <td>8</td>\n",
       "      <td>NEW SUDBURY ST</td>\n",
       "      <td>(42.36183857, -71.05976489)</td>\n",
       "      <td>23</td>\n",
       "    </tr>\n",
       "    <tr>\n",
       "      <th>407044</th>\n",
       "      <td>I020669075-00</td>\n",
       "      <td>3125</td>\n",
       "      <td>Warrant Arrests</td>\n",
       "      <td>A1</td>\n",
       "      <td>2019</td>\n",
       "      <td>5</td>\n",
       "      <td>Thursday</td>\n",
       "      <td>8</td>\n",
       "      <td>NEW SUDBURY ST</td>\n",
       "      <td>(42.36183857, -71.05976489)</td>\n",
       "      <td>23</td>\n",
       "    </tr>\n",
       "    <tr>\n",
       "      <th>407045</th>\n",
       "      <td>I020662996-00</td>\n",
       "      <td>3125</td>\n",
       "      <td>Warrant Arrests</td>\n",
       "      <td>A1</td>\n",
       "      <td>2019</td>\n",
       "      <td>5</td>\n",
       "      <td>Thursday</td>\n",
       "      <td>8</td>\n",
       "      <td>NEW SUDBURY ST</td>\n",
       "      <td>(42.36183857, -71.05976489)</td>\n",
       "      <td>23</td>\n",
       "    </tr>\n",
       "    <tr>\n",
       "      <th>407046</th>\n",
       "      <td>I010370257-00</td>\n",
       "      <td>3125</td>\n",
       "      <td>Warrant Arrests</td>\n",
       "      <td>E13</td>\n",
       "      <td>2016</td>\n",
       "      <td>5</td>\n",
       "      <td>Tuesday</td>\n",
       "      <td>19</td>\n",
       "      <td>NEW WASHINGTON ST</td>\n",
       "      <td>(42.30233307, -71.11156487)</td>\n",
       "      <td>31</td>\n",
       "    </tr>\n",
       "  </tbody>\n",
       "</table>\n",
       "</div>"
      ],
      "text/plain": [
       "       INCIDENT_NUMBER  OFFENSE_CODE OFFENSE_CODE_GROUP DISTRICT  YEAR  MONTH  \\\n",
       "407042   I020691165-00          3125    Warrant Arrests       A1  2019      5   \n",
       "407043   I020674147-00          3125    Warrant Arrests       A1  2019      5   \n",
       "407044   I020669075-00          3125    Warrant Arrests       A1  2019      5   \n",
       "407045   I020662996-00          3125    Warrant Arrests       A1  2019      5   \n",
       "407046   I010370257-00          3125    Warrant Arrests      E13  2016      5   \n",
       "\n",
       "       DAY_OF_WEEK  HOUR             STREET                     Location  DAY  \n",
       "407042    Thursday     8     NEW SUDBURY ST  (42.36183857, -71.05976489)   23  \n",
       "407043    Thursday     8     NEW SUDBURY ST  (42.36183857, -71.05976489)   23  \n",
       "407044    Thursday     8     NEW SUDBURY ST  (42.36183857, -71.05976489)   23  \n",
       "407045    Thursday     8     NEW SUDBURY ST  (42.36183857, -71.05976489)   23  \n",
       "407046     Tuesday    19  NEW WASHINGTON ST  (42.30233307, -71.11156487)   31  "
      ]
     },
     "execution_count": 58,
     "metadata": {},
     "output_type": "execute_result"
    }
   ],
   "source": [
    "import datetime\n",
    "\n",
    "# convert the str into datetime object then extracting using 'day' method\n",
    "data['DAY'] = data['OCCURRED_ON_DATE'].apply(lambda x: datetime.datetime.strptime(x,'%Y-%m-%d %H:%M:%S').day)\n",
    "\n",
    "# removing 'OCCURRED_ON_DATE' since it is no more needed\n",
    "data = data.drop(['OCCURRED_ON_DATE'],axis=1)\n",
    "\n",
    "data.tail()"
   ]
  },
  {
   "cell_type": "markdown",
   "metadata": {},
   "source": [
    "It definitely looks like we have a lot of date and time columns. But, we will keep it for now since it is essential to most of our questions. We will rearrange our columns next to a more convenient order."
   ]
  },
  {
   "cell_type": "code",
   "execution_count": 59,
   "metadata": {},
   "outputs": [
    {
     "data": {
      "text/plain": [
       "['INCIDENT_NUMBER',\n",
       " 'OFFENSE_CODE',\n",
       " 'OFFENSE_CODE_GROUP',\n",
       " 'DISTRICT',\n",
       " 'YEAR',\n",
       " 'MONTH',\n",
       " 'DAY_OF_WEEK',\n",
       " 'HOUR',\n",
       " 'STREET',\n",
       " 'Location',\n",
       " 'DAY']"
      ]
     },
     "execution_count": 59,
     "metadata": {},
     "output_type": "execute_result"
    }
   ],
   "source": [
    "# Getting the columns' names and converting to list\n",
    "cols = data.columns.values.tolist()\n",
    "cols"
   ]
  },
  {
   "cell_type": "code",
   "execution_count": 60,
   "metadata": {},
   "outputs": [
    {
     "data": {
      "text/html": [
       "<div>\n",
       "<style scoped>\n",
       "    .dataframe tbody tr th:only-of-type {\n",
       "        vertical-align: middle;\n",
       "    }\n",
       "\n",
       "    .dataframe tbody tr th {\n",
       "        vertical-align: top;\n",
       "    }\n",
       "\n",
       "    .dataframe thead th {\n",
       "        text-align: right;\n",
       "    }\n",
       "</style>\n",
       "<table border=\"1\" class=\"dataframe\">\n",
       "  <thead>\n",
       "    <tr style=\"text-align: right;\">\n",
       "      <th></th>\n",
       "      <th>INCIDENT_NUMBER</th>\n",
       "      <th>OFFENSE_CODE</th>\n",
       "      <th>OFFENSE_CODE_GROUP</th>\n",
       "      <th>DAY</th>\n",
       "      <th>DAY_OF_WEEK</th>\n",
       "      <th>MONTH</th>\n",
       "      <th>YEAR</th>\n",
       "      <th>HOUR</th>\n",
       "      <th>STREET</th>\n",
       "      <th>DISTRICT</th>\n",
       "      <th>Location</th>\n",
       "    </tr>\n",
       "  </thead>\n",
       "  <tbody>\n",
       "    <tr>\n",
       "      <th>0</th>\n",
       "      <td>I192057955</td>\n",
       "      <td>3115</td>\n",
       "      <td>Investigate Person</td>\n",
       "      <td>26</td>\n",
       "      <td>Friday</td>\n",
       "      <td>7</td>\n",
       "      <td>2019</td>\n",
       "      <td>19</td>\n",
       "      <td>KILMARNOCK ST</td>\n",
       "      <td>D4</td>\n",
       "      <td>(42.34353469, -71.09980109)</td>\n",
       "    </tr>\n",
       "    <tr>\n",
       "      <th>1</th>\n",
       "      <td>I192057953</td>\n",
       "      <td>619</td>\n",
       "      <td>Larceny</td>\n",
       "      <td>26</td>\n",
       "      <td>Friday</td>\n",
       "      <td>7</td>\n",
       "      <td>2019</td>\n",
       "      <td>21</td>\n",
       "      <td>EVANS ST</td>\n",
       "      <td>B3</td>\n",
       "      <td>(42.28229312, -71.08088944)</td>\n",
       "    </tr>\n",
       "    <tr>\n",
       "      <th>2</th>\n",
       "      <td>I192057944</td>\n",
       "      <td>3006</td>\n",
       "      <td>Medical Assistance</td>\n",
       "      <td>26</td>\n",
       "      <td>Friday</td>\n",
       "      <td>7</td>\n",
       "      <td>2019</td>\n",
       "      <td>20</td>\n",
       "      <td>WASHINGTON ST</td>\n",
       "      <td>E13</td>\n",
       "      <td>(42.30971857, -71.10429432)</td>\n",
       "    </tr>\n",
       "    <tr>\n",
       "      <th>3</th>\n",
       "      <td>I192057942</td>\n",
       "      <td>619</td>\n",
       "      <td>Larceny</td>\n",
       "      <td>26</td>\n",
       "      <td>Friday</td>\n",
       "      <td>7</td>\n",
       "      <td>2019</td>\n",
       "      <td>19</td>\n",
       "      <td>ASHFORD ST</td>\n",
       "      <td>D14</td>\n",
       "      <td>(42.35431862, -71.12901674)</td>\n",
       "    </tr>\n",
       "    <tr>\n",
       "      <th>4</th>\n",
       "      <td>I192057939</td>\n",
       "      <td>1102</td>\n",
       "      <td>Fraud</td>\n",
       "      <td>26</td>\n",
       "      <td>Friday</td>\n",
       "      <td>7</td>\n",
       "      <td>2019</td>\n",
       "      <td>15</td>\n",
       "      <td>SHAWMUT AVE</td>\n",
       "      <td>D4</td>\n",
       "      <td>(42.34177501, -71.07124466)</td>\n",
       "    </tr>\n",
       "  </tbody>\n",
       "</table>\n",
       "</div>"
      ],
      "text/plain": [
       "  INCIDENT_NUMBER  OFFENSE_CODE  OFFENSE_CODE_GROUP  DAY DAY_OF_WEEK  MONTH  \\\n",
       "0      I192057955          3115  Investigate Person   26      Friday      7   \n",
       "1      I192057953           619             Larceny   26      Friday      7   \n",
       "2      I192057944          3006  Medical Assistance   26      Friday      7   \n",
       "3      I192057942           619             Larceny   26      Friday      7   \n",
       "4      I192057939          1102               Fraud   26      Friday      7   \n",
       "\n",
       "   YEAR  HOUR         STREET DISTRICT                     Location  \n",
       "0  2019    19  KILMARNOCK ST       D4  (42.34353469, -71.09980109)  \n",
       "1  2019    21       EVANS ST       B3  (42.28229312, -71.08088944)  \n",
       "2  2019    20  WASHINGTON ST      E13  (42.30971857, -71.10429432)  \n",
       "3  2019    19     ASHFORD ST      D14  (42.35431862, -71.12901674)  \n",
       "4  2019    15    SHAWMUT AVE       D4  (42.34177501, -71.07124466)  "
      ]
     },
     "execution_count": 60,
     "metadata": {},
     "output_type": "execute_result"
    }
   ],
   "source": [
    "# new preferred order of columns\n",
    "new_cols = ['INCIDENT_NUMBER','OFFENSE_CODE',\n",
    " 'OFFENSE_CODE_GROUP',\n",
    " 'DAY',\n",
    " 'DAY_OF_WEEK',\n",
    " 'MONTH',\n",
    " 'YEAR',\n",
    " 'HOUR',\n",
    " 'STREET',            \n",
    " 'DISTRICT',\n",
    " 'Location']\n",
    "\n",
    "# reassigning new order to our data\n",
    "data = data[new_cols]\n",
    "data.head()"
   ]
  },
  {
   "cell_type": "markdown",
   "metadata": {},
   "source": [
    "### Rows lacking information"
   ]
  },
  {
   "cell_type": "markdown",
   "metadata": {},
   "source": [
    "Next, we will remove rows contain missing values. "
   ]
  },
  {
   "cell_type": "code",
   "execution_count": 61,
   "metadata": {},
   "outputs": [
    {
     "name": "stdout",
     "output_type": "stream",
     "text": [
      "<class 'pandas.core.frame.DataFrame'>\n",
      "Int64Index: 394149 entries, 0 to 407046\n",
      "Data columns (total 11 columns):\n",
      "INCIDENT_NUMBER       394149 non-null object\n",
      "OFFENSE_CODE          394149 non-null int64\n",
      "OFFENSE_CODE_GROUP    394149 non-null object\n",
      "DAY                   394149 non-null int64\n",
      "DAY_OF_WEEK           394149 non-null object\n",
      "MONTH                 394149 non-null int64\n",
      "YEAR                  394149 non-null int64\n",
      "HOUR                  394149 non-null int64\n",
      "STREET                394149 non-null object\n",
      "DISTRICT              394149 non-null object\n",
      "Location              394149 non-null object\n",
      "dtypes: int64(5), object(6)\n",
      "memory usage: 36.1+ MB\n"
     ]
    }
   ],
   "source": [
    "# we don't need to specify the axis since the default is 0(row-wise)\n",
    "data = data.dropna()\n",
    "data.info()"
   ]
  },
  {
   "cell_type": "markdown",
   "metadata": {},
   "source": [
    "## Question 1: Which districts and streets highlight the highest number of incidents?"
   ]
  },
  {
   "cell_type": "markdown",
   "metadata": {},
   "source": [
    "To tackle this problem, we will first need to have a lower level digging to find out the number of unique districts and streets."
   ]
  },
  {
   "cell_type": "code",
   "execution_count": 62,
   "metadata": {},
   "outputs": [
    {
     "data": {
      "text/html": [
       "<div>\n",
       "<style scoped>\n",
       "    .dataframe tbody tr th:only-of-type {\n",
       "        vertical-align: middle;\n",
       "    }\n",
       "\n",
       "    .dataframe tbody tr th {\n",
       "        vertical-align: top;\n",
       "    }\n",
       "\n",
       "    .dataframe thead th {\n",
       "        text-align: right;\n",
       "    }\n",
       "</style>\n",
       "<table border=\"1\" class=\"dataframe\">\n",
       "  <thead>\n",
       "    <tr style=\"text-align: right;\">\n",
       "      <th></th>\n",
       "      <th>INCIDENT_NUMBER</th>\n",
       "      <th>OFFENSE_CODE_GROUP</th>\n",
       "      <th>STREET</th>\n",
       "      <th>DISTRICT</th>\n",
       "    </tr>\n",
       "  </thead>\n",
       "  <tbody>\n",
       "    <tr>\n",
       "      <th>0</th>\n",
       "      <td>I192057955</td>\n",
       "      <td>Investigate Person</td>\n",
       "      <td>KILMARNOCK ST</td>\n",
       "      <td>D4</td>\n",
       "    </tr>\n",
       "    <tr>\n",
       "      <th>1</th>\n",
       "      <td>I192057953</td>\n",
       "      <td>Larceny</td>\n",
       "      <td>EVANS ST</td>\n",
       "      <td>B3</td>\n",
       "    </tr>\n",
       "    <tr>\n",
       "      <th>2</th>\n",
       "      <td>I192057944</td>\n",
       "      <td>Medical Assistance</td>\n",
       "      <td>WASHINGTON ST</td>\n",
       "      <td>E13</td>\n",
       "    </tr>\n",
       "    <tr>\n",
       "      <th>3</th>\n",
       "      <td>I192057942</td>\n",
       "      <td>Larceny</td>\n",
       "      <td>ASHFORD ST</td>\n",
       "      <td>D14</td>\n",
       "    </tr>\n",
       "    <tr>\n",
       "      <th>4</th>\n",
       "      <td>I192057939</td>\n",
       "      <td>Fraud</td>\n",
       "      <td>SHAWMUT AVE</td>\n",
       "      <td>D4</td>\n",
       "    </tr>\n",
       "  </tbody>\n",
       "</table>\n",
       "</div>"
      ],
      "text/plain": [
       "  INCIDENT_NUMBER  OFFENSE_CODE_GROUP         STREET DISTRICT\n",
       "0      I192057955  Investigate Person  KILMARNOCK ST       D4\n",
       "1      I192057953             Larceny       EVANS ST       B3\n",
       "2      I192057944  Medical Assistance  WASHINGTON ST      E13\n",
       "3      I192057942             Larceny     ASHFORD ST      D14\n",
       "4      I192057939               Fraud    SHAWMUT AVE       D4"
      ]
     },
     "execution_count": 62,
     "metadata": {},
     "output_type": "execute_result"
    }
   ],
   "source": [
    "# subset of the columns we need for this analysis\n",
    "dist_st_cols = ['INCIDENT_NUMBER','OFFENSE_CODE_GROUP','STREET','DISTRICT']\n",
    "data_areas = data[dist_st_cols]\n",
    "data_areas.head()"
   ]
  },
  {
   "cell_type": "code",
   "execution_count": 63,
   "metadata": {},
   "outputs": [
    {
     "data": {
      "text/plain": [
       "B2     63146\n",
       "C11    53125\n",
       "D4     50583\n",
       "B3     45236\n",
       "A1     43705\n",
       "C6     28479\n",
       "D14    25040\n",
       "E18    21981\n",
       "E13    21638\n",
       "E5     17041\n",
       "A7     16089\n",
       "A15     8086\n",
       "Name: DISTRICT, dtype: int64"
      ]
     },
     "execution_count": 63,
     "metadata": {},
     "output_type": "execute_result"
    }
   ],
   "source": [
    "#incident counts by districts in descending order\n",
    "data_areas.DISTRICT.value_counts().sort_values(ascending=False)"
   ]
  },
  {
   "cell_type": "markdown",
   "metadata": {},
   "source": [
    "The three districts with the highest incidents are: \n",
    "\n",
    "B2     63146\n",
    "\n",
    "C11    53125\n",
    "\n",
    "D4     50583"
   ]
  },
  {
   "cell_type": "code",
   "execution_count": 64,
   "metadata": {},
   "outputs": [
    {
     "data": {
      "text/plain": [
       "WASHINGTON ST          18457\n",
       "BLUE HILL AVE          10081\n",
       "BOYLSTON ST             9126\n",
       "DORCHESTER AVE          6437\n",
       "TREMONT ST              6278\n",
       "MASSACHUSETTS AVE       6055\n",
       "HARRISON AVE            6022\n",
       "CENTRE ST               5636\n",
       "COMMONWEALTH AVE        5291\n",
       "HYDE PARK AVE           4531\n",
       "COLUMBIA RD             4066\n",
       "HUNTINGTON AVE          3814\n",
       "RIVER ST                3689\n",
       "DUDLEY ST               3150\n",
       "COLUMBUS AVE            3003\n",
       "WARREN ST               2927\n",
       "ADAMS ST                2613\n",
       "BEACON ST               2474\n",
       "NEWBURY ST              2456\n",
       "BOWDOIN ST              2197\n",
       "CAMBRIDGE ST            2191\n",
       "AMERICAN LEGION HWY     2104\n",
       "GENEVA AVE              2036\n",
       "W BROADWAY              2015\n",
       "ALBANY ST               1925\n",
       "ALLSTATE RD             1675\n",
       "SUMMER ST               1647\n",
       "NEW SUDBURY ST          1586\n",
       "BORDER ST               1550\n",
       "HANCOCK ST              1539\n",
       "                       ...  \n",
       "S HAMPTON ST               1\n",
       "ROLLINS PL                 1\n",
       "KENNEBEC AVE               1\n",
       "CRYSTAL PL                 1\n",
       "LEVERETT CIR               1\n",
       "I ST AT DAY                1\n",
       "12 BROOKVIEW ST            1\n",
       "STONLEY RD                 1\n",
       "5 CONDOR ST                1\n",
       "MORRISSEY BL               1\n",
       "PAIGE AVE                  1\n",
       "CLARKEN CT                 1\n",
       "00 OLD COLONY AVE          1\n",
       "PROVIDENCE HWY             1\n",
       "MARRIOTT LONG WHARF        1\n",
       "SEAPORT                    1\n",
       "MORRISSEY                  1\n",
       "SOUTHVIEW ST               1\n",
       "CLIFFMOUNT ST              1\n",
       "475 GENEVA AVE             1\n",
       "PARMELEE ST                1\n",
       "INNER HARBOR LNG           1\n",
       "CHESTNUT W                 1\n",
       "HAMLET                     1\n",
       "150 1                      1\n",
       "HEMING                     1\n",
       "COMERCIAL                  1\n",
       "S CEDAR PL                 1\n",
       "ARAMON ST                  1\n",
       "SURFACE RD                 1\n",
       "Name: STREET, Length: 4480, dtype: int64"
      ]
     },
     "execution_count": 64,
     "metadata": {},
     "output_type": "execute_result"
    }
   ],
   "source": [
    "#incident counts by streets in descending order\n",
    "data_areas.STREET.value_counts().sort_values(ascending=False)"
   ]
  },
  {
   "cell_type": "markdown",
   "metadata": {},
   "source": [
    "We can clearly see that the 3 streets with most incidents are : \n",
    "\n",
    "WASHINGTON ST                18457\n",
    "\n",
    "BLUE HILL AVE                10081\n",
    "\n",
    "BOYLSTON ST                   9126\n",
    "\n",
    "Let's also find out the districts these streets cover."
   ]
  },
  {
   "cell_type": "code",
   "execution_count": 65,
   "metadata": {},
   "outputs": [
    {
     "data": {
      "text/plain": [
       "(11, 4, 10)"
      ]
     },
     "execution_count": 65,
     "metadata": {},
     "output_type": "execute_result"
    }
   ],
   "source": [
    "street_1 = len(data_areas[data_areas['STREET'] == 'WASHINGTON ST']['DISTRICT'].value_counts())\n",
    "street_2 = len(data_areas[data_areas['STREET'] == 'BLUE HILL AVE']['DISTRICT'].value_counts())\n",
    "street_3 = len(data_areas[data_areas['STREET'] == 'BOYLSTON ST']['DISTRICT'].value_counts())\n",
    "street_1,street_2,street_3"
   ]
  },
  {
   "cell_type": "markdown",
   "metadata": {},
   "source": [
    "It looks like the first street (WASHINGTON ST ) and third street (BOYLSTON ST) are main streets that cover a lot of geopgraphical area. The second covers a way smaller area (relatively only four districts) but hosts a lot of incidents. Let's dig in more into this street."
   ]
  },
  {
   "cell_type": "code",
   "execution_count": 66,
   "metadata": {},
   "outputs": [
    {
     "data": {
      "text/plain": [
       "Motor Vehicle Accident Response     1637\n",
       "Drug Violation                      1033\n",
       "Larceny                              686\n",
       "Investigate Person                   637\n",
       "Medical Assistance                   520\n",
       "Other                                514\n",
       "Simple Assault                       481\n",
       "Violations                           386\n",
       "Verbal Disputes                      375\n",
       "Aggravated Assault                   358\n",
       "Vandalism                            357\n",
       "Property Lost                        331\n",
       "Warrant Arrests                      285\n",
       "Investigate Property                 272\n",
       "Robbery                              245\n",
       "Larceny From Motor Vehicle           185\n",
       "Fraud                                131\n",
       "Auto Theft                           118\n",
       "Property Found                       109\n",
       "Liquor Violation                     108\n",
       "Search Warrants                       98\n",
       "Firearm Violations                    93\n",
       "Commercial Burglary                   93\n",
       "Police Service Incidents              93\n",
       "Towed                                 89\n",
       "Missing Person Located                85\n",
       "Harassment                            82\n",
       "Counterfeiting                        75\n",
       "Confidence Games                      60\n",
       "Missing Person Reported               57\n",
       "Disorderly Conduct                    51\n",
       "Recovered Stolen Property             48\n",
       "Residential Burglary                  44\n",
       "License Violation                     41\n",
       "Fire Related Reports                  34\n",
       "Auto Theft Recovery                   34\n",
       "Restraining Order Violations          31\n",
       "Operating Under the Influence         25\n",
       "Firearm Discovery                     23\n",
       "Offenses Against Child / Family       21\n",
       "Landlord/Tenant Disputes              19\n",
       "Ballistics                            16\n",
       "Prisoner Related Incidents            16\n",
       "Property Related Damage               13\n",
       "Evading Fare                          12\n",
       "License Plate Related Incidents       11\n",
       "Embezzlement                          11\n",
       "Other Burglary                        10\n",
       "Homicide                               9\n",
       "Service                                8\n",
       "Assembly or Gathering Violations       3\n",
       "Criminal Harassment                    3\n",
       "Arson                                  2\n",
       "Prostitution                           2\n",
       "HOME INVASION                          1\n",
       "Name: OFFENSE_CODE_GROUP, dtype: int64"
      ]
     },
     "execution_count": 66,
     "metadata": {},
     "output_type": "execute_result"
    }
   ],
   "source": [
    "st2_data = data_areas[data_areas['STREET'] == 'BLUE HILL AVE']['OFFENSE_CODE_GROUP']\n",
    "st2_data.value_counts().sort_values(ascending=False)"
   ]
  },
  {
   "cell_type": "markdown",
   "metadata": {},
   "source": [
    "'Motor Vehicle Accident Response' and 'Drug Violation'are the highest two crimes on this street. By doing a bit of research, we find that the very reason for all of this is the big number of liquor stores on the street, provided that drug or liquor and accidents are closely related."
   ]
  },
  {
   "cell_type": "markdown",
   "metadata": {},
   "source": [
    "## Question 2: What are the most comitted crimes? According to each district?"
   ]
  },
  {
   "cell_type": "markdown",
   "metadata": {},
   "source": [
    "### Crimes with the highest number of incidents"
   ]
  },
  {
   "cell_type": "code",
   "execution_count": 67,
   "metadata": {},
   "outputs": [
    {
     "data": {
      "text/plain": [
       "Motor Vehicle Accident Response    43650\n",
       "Larceny                            32657\n",
       "Medical Assistance                 30389\n",
       "Investigate Person                 23477\n",
       "Other                              22239\n",
       "Simple Assault                     19795\n",
       "Drug Violation                     19764\n",
       "Vandalism                          18869\n",
       "Verbal Disputes                    16855\n",
       "Investigate Property               14106\n",
       "Towed                              13898\n",
       "Larceny From Motor Vehicle         12968\n",
       "Property Lost                      12558\n",
       "Warrant Arrests                    10086\n",
       "Aggravated Assault                  9759\n",
       "Fraud                               7749\n",
       "Violations                          7004\n",
       "Missing Person Located              6817\n",
       "Residential Burglary                6601\n",
       "Auto Theft                          5696\n",
       "Name: OFFENSE_CODE_GROUP, dtype: int64"
      ]
     },
     "execution_count": 67,
     "metadata": {},
     "output_type": "execute_result"
    }
   ],
   "source": [
    "crime_order = data.OFFENSE_CODE_GROUP.value_counts().sort_values(ascending=False)\n",
    "crime_order.head(20)"
   ]
  },
  {
   "cell_type": "code",
   "execution_count": 68,
   "metadata": {},
   "outputs": [
    {
     "data": {
      "text/plain": [
       "count     394149\n",
       "unique        12\n",
       "top           B2\n",
       "freq       63146\n",
       "Name: DISTRICT, dtype: object"
      ]
     },
     "execution_count": 68,
     "metadata": {},
     "output_type": "execute_result"
    }
   ],
   "source": [
    "data.DISTRICT.describe()"
   ]
  },
  {
   "cell_type": "code",
   "execution_count": 69,
   "metadata": {},
   "outputs": [
    {
     "data": {
      "text/plain": [
       "count            394149\n",
       "unique             4480\n",
       "top       WASHINGTON ST\n",
       "freq              18457\n",
       "Name: STREET, dtype: object"
      ]
     },
     "execution_count": 69,
     "metadata": {},
     "output_type": "execute_result"
    }
   ],
   "source": [
    "data.STREET.describe()"
   ]
  },
  {
   "cell_type": "markdown",
   "metadata": {},
   "source": [
    "Because we have a lot of streets (4480 unique streets) in comparison with only 12 districts, it will be an unintuitive approach to group by districts and streets. Instead, let's take a subset of the data. We will choose rows where the streets have at least 5000 incident reports over the four years our data covers."
   ]
  },
  {
   "cell_type": "code",
   "execution_count": 70,
   "metadata": {},
   "outputs": [
    {
     "name": "stdout",
     "output_type": "stream",
     "text": [
      "<class 'pandas.core.frame.DataFrame'>\n",
      "Int64Index: 73383 entries, 2 to 407036\n",
      "Data columns (total 4 columns):\n",
      "INCIDENT_NUMBER       73383 non-null object\n",
      "OFFENSE_CODE_GROUP    73383 non-null object\n",
      "STREET                73383 non-null object\n",
      "DISTRICT              73383 non-null object\n",
      "dtypes: object(4)\n",
      "memory usage: 2.8+ MB\n",
      "WASHINGTON ST        18457\n",
      "BLUE HILL AVE        10081\n",
      "BOYLSTON ST           9126\n",
      "DORCHESTER AVE        6437\n",
      "TREMONT ST            6278\n",
      "MASSACHUSETTS AVE     6055\n",
      "HARRISON AVE          6022\n",
      "CENTRE ST             5636\n",
      "COMMONWEALTH AVE      5291\n",
      "Name: STREET, dtype: int64\n"
     ]
    }
   ],
   "source": [
    "# boolean mask to filter streets with more than 5000 incidents\n",
    "more_than_5000 = data_areas.STREET.value_counts().values > 5000\n",
    "\n",
    "high_incid_st = data_areas.STREET.value_counts()[more_than_5000]\n",
    "\n",
    "high_num_of_incidents =  data_areas[data_areas['STREET'].isin(high_incid_st.index)]\n",
    "\n",
    "high_num_of_incidents.info()\n",
    "print(high_incid_st)"
   ]
  },
  {
   "cell_type": "markdown",
   "metadata": {},
   "source": [
    "### Grouping the data according to districts and streets"
   ]
  },
  {
   "cell_type": "markdown",
   "metadata": {},
   "source": [
    "Now we are down to only 73383 rows compared to the enormous number of 394149 from before. We are also down to only 9 streets. It will be easier to group the districts with the remaining streets now."
   ]
  },
  {
   "cell_type": "code",
   "execution_count": 71,
   "metadata": {},
   "outputs": [
    {
     "data": {
      "text/plain": [
       "Int64Index([     0,      1,      2,      3,      4,      5,      6,      7,\n",
       "                 8,      9,\n",
       "            ...\n",
       "            407037, 407038, 407039, 407040, 407041, 407042, 407043, 407044,\n",
       "            407045, 407046],\n",
       "           dtype='int64', length=394149)"
      ]
     },
     "execution_count": 71,
     "metadata": {},
     "output_type": "execute_result"
    }
   ],
   "source": [
    "# group by streets and districts; first make sure the dataframe index isn't a multiindex\n",
    "data_areas.index"
   ]
  },
  {
   "cell_type": "code",
   "execution_count": 72,
   "metadata": {},
   "outputs": [
    {
     "data": {
      "text/html": [
       "<div>\n",
       "<style scoped>\n",
       "    .dataframe tbody tr th:only-of-type {\n",
       "        vertical-align: middle;\n",
       "    }\n",
       "\n",
       "    .dataframe tbody tr th {\n",
       "        vertical-align: top;\n",
       "    }\n",
       "\n",
       "    .dataframe thead th {\n",
       "        text-align: right;\n",
       "    }\n",
       "</style>\n",
       "<table border=\"1\" class=\"dataframe\">\n",
       "  <thead>\n",
       "    <tr style=\"text-align: right;\">\n",
       "      <th></th>\n",
       "      <th></th>\n",
       "      <th>INCIDENT_NUMBER</th>\n",
       "      <th>OFFENSE_CODE_GROUP</th>\n",
       "    </tr>\n",
       "    <tr>\n",
       "      <th>DISTRICT</th>\n",
       "      <th>STREET</th>\n",
       "      <th></th>\n",
       "      <th></th>\n",
       "    </tr>\n",
       "  </thead>\n",
       "  <tbody>\n",
       "    <tr>\n",
       "      <th rowspan=\"5\" valign=\"top\">A1</th>\n",
       "      <th>BOYLSTON ST</th>\n",
       "      <td>I192057373</td>\n",
       "      <td>Towed</td>\n",
       "    </tr>\n",
       "    <tr>\n",
       "      <th>BOYLSTON ST</th>\n",
       "      <td>I192057154</td>\n",
       "      <td>Larceny</td>\n",
       "    </tr>\n",
       "    <tr>\n",
       "      <th>BOYLSTON ST</th>\n",
       "      <td>I192057089</td>\n",
       "      <td>Medical Assistance</td>\n",
       "    </tr>\n",
       "    <tr>\n",
       "      <th>BOYLSTON ST</th>\n",
       "      <td>I192056358</td>\n",
       "      <td>Larceny</td>\n",
       "    </tr>\n",
       "    <tr>\n",
       "      <th>BOYLSTON ST</th>\n",
       "      <td>I192056317</td>\n",
       "      <td>Larceny From Motor Vehicle</td>\n",
       "    </tr>\n",
       "  </tbody>\n",
       "</table>\n",
       "</div>"
      ],
      "text/plain": [
       "                     INCIDENT_NUMBER          OFFENSE_CODE_GROUP\n",
       "DISTRICT STREET                                                 \n",
       "A1       BOYLSTON ST      I192057373                       Towed\n",
       "         BOYLSTON ST      I192057154                     Larceny\n",
       "         BOYLSTON ST      I192057089          Medical Assistance\n",
       "         BOYLSTON ST      I192056358                     Larceny\n",
       "         BOYLSTON ST      I192056317  Larceny From Motor Vehicle"
      ]
     },
     "execution_count": 72,
     "metadata": {},
     "output_type": "execute_result"
    }
   ],
   "source": [
    "# change the index from a single column to two different columns\n",
    "data_areas_multi = high_num_of_incidents.set_index(['DISTRICT','STREET']).sort_index()\n",
    "data_areas_multi.head()"
   ]
  },
  {
   "cell_type": "markdown",
   "metadata": {},
   "source": [
    "As we have seen, our data is now grouped by the districts and streets where each district acting as the first index has its streets and incidents listed in order. "
   ]
  },
  {
   "cell_type": "markdown",
   "metadata": {},
   "source": [
    "## Question 3: How did the most comitted crimes change during the years?"
   ]
  },
  {
   "cell_type": "markdown",
   "metadata": {},
   "source": [
    "To answer this question, let's first recall our 3 winners from our past question."
   ]
  },
  {
   "cell_type": "markdown",
   "metadata": {},
   "source": [
    "    Motor Vehicle Accident Response    43650\n",
    "\n",
    "    Larceny                            32657\n",
    "\n",
    "    Medical Assistance                 686\n",
    "\n",
    "The great difference in number of occurences between the first 2 and the third (i.e. and the rest of crimes) is overwhelming. Thus, let's only focus on the first 2, and see how they changed through the years."
   ]
  },
  {
   "cell_type": "code",
   "execution_count": 73,
   "metadata": {},
   "outputs": [
    {
     "data": {
      "text/plain": [
       "dtype('int64')"
      ]
     },
     "execution_count": 73,
     "metadata": {},
     "output_type": "execute_result"
    }
   ],
   "source": [
    "# Back to our original cleaned dataframe called 'data'\n",
    "# first lets find out the 'YEAR' data type before doing any analysis on it to avoid errors\n",
    "data.YEAR.dtype"
   ]
  },
  {
   "cell_type": "code",
   "execution_count": 74,
   "metadata": {},
   "outputs": [
    {
     "data": {
      "text/plain": [
       "array([2015])"
      ]
     },
     "execution_count": 74,
     "metadata": {},
     "output_type": "execute_result"
    }
   ],
   "source": [
    "# extracting data acoording to year of occurence\n",
    "data_2015 = data[data['YEAR'] == 2015]\n",
    "\n",
    "data_2016 = data[data['YEAR'] == 2016]\n",
    "\n",
    "data_2017 = data[data['YEAR'] == 2017]\n",
    "\n",
    "data_2018 = data[data['YEAR'] == 2018]\n",
    "\n",
    "data_2019 = data[data['YEAR'] == 2019]\n",
    "\n",
    "data_2015['YEAR'].unique()"
   ]
  },
  {
   "cell_type": "markdown",
   "metadata": {},
   "source": [
    "Now to observe the changes during the years for the two highest occuring crimes, the best way would be a simple line plot."
   ]
  },
  {
   "cell_type": "code",
   "execution_count": 77,
   "metadata": {},
   "outputs": [
    {
     "data": {
      "text/plain": [
       "([5429, 9701, 11240, 11179, 6101], [4994, 7741, 7742, 8032, 4148])"
      ]
     },
     "execution_count": 77,
     "metadata": {},
     "output_type": "execute_result"
    }
   ],
   "source": [
    "import matplotlib.pyplot as plt\n",
    "\n",
    "%matplotlib inline\n",
    "\n",
    "\n",
    "years_df = [data_2015,data_2016,data_2017,data_2018,data_2019]\n",
    "\n",
    "\n",
    "# lists of each year's number of occurences for crime 1 and 2 respectively\n",
    "crime_1 = []\n",
    "crime_2 = []\n",
    "for year in years_df:\n",
    "   \n",
    "    crime__1 = (year['OFFENSE_CODE_GROUP'] == 'Motor Vehicle Accident Response').sum()\n",
    "    crime_1.append(crime__1)\n",
    "    \n",
    "    crime__2 = (year['OFFENSE_CODE_GROUP'] == 'Larceny').sum()\n",
    "    crime_2.append(crime__2)\n",
    "\n",
    "crime_1,crime_2"
   ]
  },
  {
   "cell_type": "code",
   "execution_count": 80,
   "metadata": {},
   "outputs": [
    {
     "data": {
      "image/png": "[encoded data removed]",
      "text/plain": [
       "<Figure size 432x288 with 1 Axes>"
      ]
     },
     "metadata": {
      "needs_background": "light"
     },
     "output_type": "display_data"
    }
   ],
   "source": [
    "import numpy as np\n",
    "\n",
    "years = ['2015','2016','2017','2018','2019']\n",
    "\n",
    "x = np.arange(len(years))  # the label locations\n",
    "width = 0.35  # the width of the bars\n",
    "\n",
    "\n",
    "fig, ax = plt.subplots()\n",
    "rects1 = ax.bar(x - width/2, crime_1, width, label='Vehicle Accident')\n",
    "rects2 = ax.bar(x + width/2, crime_2, width, label='Larceny')\n",
    "\n",
    "\n",
    "# Add some text for labels, title and custom x-axis tick labels, etc.\n",
    "ax.set_ylabel('Incident Ocurrences')\n",
    "ax.set_xticks(x)\n",
    "ax.set_xticklabels(years)\n",
    "ax.legend()\n",
    "fig.tight_layout()\n",
    "\n",
    "\n",
    "plt.show()"
   ]
  },
  {
   "cell_type": "code",
   "execution_count": 83,
   "metadata": {},
   "outputs": [
    {
     "name": "stdout",
     "output_type": "stream",
     "text": [
      "Length of 2015 data  :  52234\n",
      "Length of 2016 data  :  93566\n",
      "Length of 2017 data  :  98401\n",
      "Length of 2018 data  :  96820\n",
      "Length of 2019 data  :  53128\n"
     ]
    }
   ],
   "source": [
    "#comparing the length of data for each year to avoid inconsistency\n",
    "for year,year_data in zip(years,years_df):\n",
    "    print('Length of', year,'data',' : ',len(year_data))"
   ]
  },
  {
   "cell_type": "markdown",
   "metadata": {},
   "source": [
    "looking at our plot, the first thing that catches the eye are the short bars for 2015 and 2019. By checking the amount of data collected for these two years, we find the big difference in numbers of entries (almost half) between the other 3 years and these 2 years, and thus the reason for this inconsistency. By checking the data source, we find that it says the following:\n",
    "\n",
    "    \"Records in the new system begin in June of 2015\"\n",
    "\n",
    "So we are only dealing with roughly half of the actual data. The same goes for 2019 since we are still at the end of July 2019 at the time of writing. This makes things clearer."
   ]
  },
  {
   "cell_type": "markdown",
   "metadata": {},
   "source": [
    "Back to analyzing our plot, we find that it is hard to judge on anything with just two crime types and only 3 years of entries in a bar plot. But, if we were to claim at least a single insight, then this would be the sudden increase in vehicle accidents from 2016 to 2017 against a constant rate of larceny across the three years."
   ]
  }
 ],
 "metadata": {
  "kernelspec": {
   "display_name": "Python 3",
   "language": "python",
   "name": "python3"
  },
  "language_info": {
   "codemirror_mode": {
    "name": "ipython",
    "version": 3
   },
   "file_extension": ".py",
   "mimetype": "text/x-python",
   "name": "python",
   "nbconvert_exporter": "python",
   "pygments_lexer": "ipython3",
   "version": "3.7.3"
  }
 },
 "nbformat": 4,
 "nbformat_minor": 2
}
